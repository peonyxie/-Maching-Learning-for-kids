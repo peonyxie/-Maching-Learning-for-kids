{
 "cells": [
  {
   "cell_type": "markdown",
   "metadata": {},
   "source": [
    "# Intro to Linear Regression and Prediction "
   ]
  },
  {
   "cell_type": "markdown",
   "metadata": {},
   "source": [
    "How do you predict the future? \n",
    "--\n",
    "As a Data Scientist, one of our responsbilities is to make reaonable predictions of the future from information of the past. In the wild ocean of data, it will save a lot of effort for us if this process can be replaced by machines. Machine learning is a way of teaching machines to identity patterns and make predictions of the future, and even make more rational decisions than human. \n",
    "\n",
    "Let's take a look of a simple example of training a computer to make prediction."
   ]
  },
  {
   "cell_type": "code",
   "execution_count": 229,
   "metadata": {},
   "outputs": [],
   "source": [
    "import pandas as pd\n",
    "import numpy as np\n",
    "import quandl\n",
    "import math\n",
    "from sklearn import preprocessing\n",
    "from sklearn.model_selection import train_test_split\n",
    "from sklearn import svm\n",
    "from sklearn.linear_model import LinearRegression\n",
    "import mpl_toolkits\n",
    "import seaborn as sns\n"
   ]
  },
  {
   "cell_type": "markdown",
   "metadata": {},
   "source": [
    "1.Housing Value and Visualization\n",
    "--\n",
    "\n",
    "As unpredictable as the housing price can be, it is an important index of the economic situation of a region and have a huge influence on people's daily life. Wouldn't it be nice if we can predict how much our house values tomorrow?\n",
    "\n",
    "Let's take a look at the Single-Family Residence in a nice and quiet town in Oakfield, NY. \n",
    "\n",
    "The chart below shows the home value index from 11/30/2010 to 9/29/2018 (only top 10 are shown)."
   ]
  },
  {
   "cell_type": "code",
   "execution_count": 267,
   "metadata": {
    "scrolled": false
   },
   "outputs": [
    {
     "data": {
      "text/html": [
       "<div>\n",
       "<style scoped>\n",
       "    .dataframe tbody tr th:only-of-type {\n",
       "        vertical-align: middle;\n",
       "    }\n",
       "\n",
       "    .dataframe tbody tr th {\n",
       "        vertical-align: top;\n",
       "    }\n",
       "\n",
       "    .dataframe thead th {\n",
       "        text-align: right;\n",
       "    }\n",
       "</style>\n",
       "<table border=\"1\" class=\"dataframe\">\n",
       "  <thead>\n",
       "    <tr style=\"text-align: right;\">\n",
       "      <th></th>\n",
       "      <th>Value</th>\n",
       "    </tr>\n",
       "    <tr>\n",
       "      <th>Date</th>\n",
       "      <th></th>\n",
       "    </tr>\n",
       "  </thead>\n",
       "  <tbody>\n",
       "    <tr>\n",
       "      <th>2010-11-30</th>\n",
       "      <td>1267.0</td>\n",
       "    </tr>\n",
       "    <tr>\n",
       "      <th>2010-12-31</th>\n",
       "      <td>1268.0</td>\n",
       "    </tr>\n",
       "    <tr>\n",
       "      <th>2011-01-31</th>\n",
       "      <td>1280.0</td>\n",
       "    </tr>\n",
       "    <tr>\n",
       "      <th>2011-02-28</th>\n",
       "      <td>1291.0</td>\n",
       "    </tr>\n",
       "    <tr>\n",
       "      <th>2011-03-31</th>\n",
       "      <td>1276.0</td>\n",
       "    </tr>\n",
       "    <tr>\n",
       "      <th>2011-04-30</th>\n",
       "      <td>1286.0</td>\n",
       "    </tr>\n",
       "    <tr>\n",
       "      <th>2011-05-31</th>\n",
       "      <td>1284.0</td>\n",
       "    </tr>\n",
       "    <tr>\n",
       "      <th>2011-06-30</th>\n",
       "      <td>1291.0</td>\n",
       "    </tr>\n",
       "    <tr>\n",
       "      <th>2011-07-31</th>\n",
       "      <td>1295.0</td>\n",
       "    </tr>\n",
       "    <tr>\n",
       "      <th>2011-08-31</th>\n",
       "      <td>1306.0</td>\n",
       "    </tr>\n",
       "    <tr>\n",
       "      <th>2011-09-30</th>\n",
       "      <td>1320.0</td>\n",
       "    </tr>\n",
       "    <tr>\n",
       "      <th>2011-10-31</th>\n",
       "      <td>1308.0</td>\n",
       "    </tr>\n",
       "    <tr>\n",
       "      <th>2011-11-30</th>\n",
       "      <td>1286.0</td>\n",
       "    </tr>\n",
       "    <tr>\n",
       "      <th>2011-12-31</th>\n",
       "      <td>1270.0</td>\n",
       "    </tr>\n",
       "    <tr>\n",
       "      <th>2012-01-31</th>\n",
       "      <td>1268.0</td>\n",
       "    </tr>\n",
       "    <tr>\n",
       "      <th>2012-02-29</th>\n",
       "      <td>1276.0</td>\n",
       "    </tr>\n",
       "    <tr>\n",
       "      <th>2012-03-31</th>\n",
       "      <td>1279.0</td>\n",
       "    </tr>\n",
       "    <tr>\n",
       "      <th>2012-04-30</th>\n",
       "      <td>1265.0</td>\n",
       "    </tr>\n",
       "    <tr>\n",
       "      <th>2012-05-31</th>\n",
       "      <td>1263.0</td>\n",
       "    </tr>\n",
       "    <tr>\n",
       "      <th>2012-06-30</th>\n",
       "      <td>1257.0</td>\n",
       "    </tr>\n",
       "  </tbody>\n",
       "</table>\n",
       "</div>"
      ],
      "text/plain": [
       "             Value\n",
       "Date              \n",
       "2010-11-30  1267.0\n",
       "2010-12-31  1268.0\n",
       "2011-01-31  1280.0\n",
       "2011-02-28  1291.0\n",
       "2011-03-31  1276.0\n",
       "2011-04-30  1286.0\n",
       "2011-05-31  1284.0\n",
       "2011-06-30  1291.0\n",
       "2011-07-31  1295.0\n",
       "2011-08-31  1306.0\n",
       "2011-09-30  1320.0\n",
       "2011-10-31  1308.0\n",
       "2011-11-30  1286.0\n",
       "2011-12-31  1270.0\n",
       "2012-01-31  1268.0\n",
       "2012-02-29  1276.0\n",
       "2012-03-31  1279.0\n",
       "2012-04-30  1265.0\n",
       "2012-05-31  1263.0\n",
       "2012-06-30  1257.0"
      ]
     },
     "execution_count": 267,
     "metadata": {},
     "output_type": "execute_result"
    }
   ],
   "source": [
    "df = quandl.get(\"ZILLOW/C25709_ZRISFRR\", authtoken=\"A_6yfxtbtVERKJ4qXr-7\")\n",
    "df.head(20)"
   ]
  },
  {
   "cell_type": "markdown",
   "metadata": {},
   "source": [
    "Let's visualize it using the visualization tool. You can tell that it is pretty instable."
   ]
  },
  {
   "cell_type": "code",
   "execution_count": 231,
   "metadata": {},
   "outputs": [
    {
     "data": {
      "text/plain": [
       "<matplotlib.axes._subplots.AxesSubplot at 0x1248b0160>"
      ]
     },
     "execution_count": 231,
     "metadata": {},
     "output_type": "execute_result"
    },
    {
     "data": {
      "image/png": "[encoded data removed]",
      "text/plain": [
       "<Figure size 432x288 with 1 Axes>"
      ]
     },
     "metadata": {
      "needs_background": "light"
     },
     "output_type": "display_data"
    }
   ],
   "source": [
    "df.plot.line()"
   ]
  },
  {
   "cell_type": "markdown",
   "metadata": {},
   "source": [
    "It might also be useful to look at the percentage of the change in values every year. \n",
    "\n",
    "Changing% from 2017 to 2018 = \n",
    "(Value of 2018 - Value of 2017) /  (Value of 2017)\n",
    "--\n",
    "Below are the visualizatons.\n",
    "\n"
   ]
  },
  {
   "cell_type": "code",
   "execution_count": 232,
   "metadata": {},
   "outputs": [],
   "source": [
    "df['PCT_change'] = df.pct_change()"
   ]
  },
  {
   "cell_type": "code",
   "execution_count": 233,
   "metadata": {},
   "outputs": [
    {
     "data": {
      "text/plain": [
       "array([<matplotlib.axes._subplots.AxesSubplot object at 0x124907a90>,\n",
       "       <matplotlib.axes._subplots.AxesSubplot object at 0x124a63588>],\n",
       "      dtype=object)"
      ]
     },
     "execution_count": 233,
     "metadata": {},
     "output_type": "execute_result"
    },
    {
     "data": {
      "image/png": "[encoded data removed]",
      "text/plain": [
       "<Figure size 432x288 with 2 Axes>"
      ]
     },
     "metadata": {
      "needs_background": "light"
     },
     "output_type": "display_data"
    }
   ],
   "source": [
    "df.head(10)\n",
    "df.plot.line(subplots=True)"
   ]
  },
  {
   "cell_type": "markdown",
   "metadata": {},
   "source": [
    "2.Prediction\n",
    "--\n",
    "\n",
    "Since our data are collected every month, we are predicting the value of \"next month\". We can create another column in the chart aloneside the old one, representing its \"next month\" value. For example in the chart below:\n",
    "\n",
    "On 11/30/2010, the current value (\"Value\") is 1267.0. The value of next month (\"Label\") is 1268.0, which corresponds with the value of 12/31/2010 in the next row."
   ]
  },
  {
   "cell_type": "code",
   "execution_count": 235,
   "metadata": {},
   "outputs": [
    {
     "data": {
      "text/html": [
       "<div>\n",
       "<style scoped>\n",
       "    .dataframe tbody tr th:only-of-type {\n",
       "        vertical-align: middle;\n",
       "    }\n",
       "\n",
       "    .dataframe tbody tr th {\n",
       "        vertical-align: top;\n",
       "    }\n",
       "\n",
       "    .dataframe thead th {\n",
       "        text-align: right;\n",
       "    }\n",
       "</style>\n",
       "<table border=\"1\" class=\"dataframe\">\n",
       "  <thead>\n",
       "    <tr style=\"text-align: right;\">\n",
       "      <th></th>\n",
       "      <th>Value</th>\n",
       "      <th>PCT_change</th>\n",
       "      <th>Label</th>\n",
       "    </tr>\n",
       "    <tr>\n",
       "      <th>Date</th>\n",
       "      <th></th>\n",
       "      <th></th>\n",
       "      <th></th>\n",
       "    </tr>\n",
       "  </thead>\n",
       "  <tbody>\n",
       "    <tr>\n",
       "      <th>2010-11-30</th>\n",
       "      <td>1267.0</td>\n",
       "      <td>-99999.000000</td>\n",
       "      <td>1268.0</td>\n",
       "    </tr>\n",
       "    <tr>\n",
       "      <th>2010-12-31</th>\n",
       "      <td>1268.0</td>\n",
       "      <td>0.000789</td>\n",
       "      <td>1280.0</td>\n",
       "    </tr>\n",
       "    <tr>\n",
       "      <th>2011-01-31</th>\n",
       "      <td>1280.0</td>\n",
       "      <td>0.009464</td>\n",
       "      <td>1291.0</td>\n",
       "    </tr>\n",
       "    <tr>\n",
       "      <th>2011-02-28</th>\n",
       "      <td>1291.0</td>\n",
       "      <td>0.008594</td>\n",
       "      <td>1276.0</td>\n",
       "    </tr>\n",
       "    <tr>\n",
       "      <th>2011-03-31</th>\n",
       "      <td>1276.0</td>\n",
       "      <td>-0.011619</td>\n",
       "      <td>1286.0</td>\n",
       "    </tr>\n",
       "    <tr>\n",
       "      <th>2011-04-30</th>\n",
       "      <td>1286.0</td>\n",
       "      <td>0.007837</td>\n",
       "      <td>1284.0</td>\n",
       "    </tr>\n",
       "    <tr>\n",
       "      <th>2011-05-31</th>\n",
       "      <td>1284.0</td>\n",
       "      <td>-0.001555</td>\n",
       "      <td>1291.0</td>\n",
       "    </tr>\n",
       "    <tr>\n",
       "      <th>2011-06-30</th>\n",
       "      <td>1291.0</td>\n",
       "      <td>0.005452</td>\n",
       "      <td>1295.0</td>\n",
       "    </tr>\n",
       "    <tr>\n",
       "      <th>2011-07-31</th>\n",
       "      <td>1295.0</td>\n",
       "      <td>0.003098</td>\n",
       "      <td>1306.0</td>\n",
       "    </tr>\n",
       "    <tr>\n",
       "      <th>2011-08-31</th>\n",
       "      <td>1306.0</td>\n",
       "      <td>0.008494</td>\n",
       "      <td>1320.0</td>\n",
       "    </tr>\n",
       "  </tbody>\n",
       "</table>\n",
       "</div>"
      ],
      "text/plain": [
       "             Value    PCT_change   Label\n",
       "Date                                    \n",
       "2010-11-30  1267.0 -99999.000000  1268.0\n",
       "2010-12-31  1268.0      0.000789  1280.0\n",
       "2011-01-31  1280.0      0.009464  1291.0\n",
       "2011-02-28  1291.0      0.008594  1276.0\n",
       "2011-03-31  1276.0     -0.011619  1286.0\n",
       "2011-04-30  1286.0      0.007837  1284.0\n",
       "2011-05-31  1284.0     -0.001555  1291.0\n",
       "2011-06-30  1291.0      0.005452  1295.0\n",
       "2011-07-31  1295.0      0.003098  1306.0\n",
       "2011-08-31  1306.0      0.008494  1320.0"
      ]
     },
     "execution_count": 235,
     "metadata": {},
     "output_type": "execute_result"
    }
   ],
   "source": [
    "predict_c = 'Value'\n",
    "##making an outlier \n",
    "df.fillna(-99999, inplace = True)\n",
    "#making a new column\"label\" for price prediction for next month\n",
    "predict_result = int(math.ceil(0.01 * len(df)))\n",
    "df['Label'] = df[predict_c].shift(-predict_result)\n",
    "df.dropna(inplace = True)\n",
    "df.head(10)"
   ]
  },
  {
   "cell_type": "markdown",
   "metadata": {},
   "source": [
    "Usually, we use X to represent the our \"Value\" --- what we are making predictions based on, \n",
    "\n",
    "and\n",
    "y to represent the \"Label\"-- what we are comparing our data to.\n",
    "\n",
    "We then scale X to prepare for the linear regression model."
   ]
  },
  {
   "cell_type": "code",
   "execution_count": 180,
   "metadata": {},
   "outputs": [],
   "source": [
    "#Usually, X represents the our current value that we are making predictions based on. \n",
    "## y represents the label what we are comparing our data to.\n",
    "\n",
    "X = np.array(df.drop(['Label'], 1))\n",
    "y = np.array(df['Label'])\n",
    "\n",
    "#scaling X \n",
    "X = preprocessing.scale(X)\n",
    "y = np.array(df['Label'])"
   ]
  },
  {
   "cell_type": "markdown",
   "metadata": {},
   "source": [
    "2.1 Training Data and Testing Data\n",
    "--\n",
    "\n",
    "Before calculating the relation between this month and the next month. Let's first split our data into \n",
    "\n",
    "1.Training data(80% of the data)\n",
    "\n",
    "2.Testing data (20% of the data)\n",
    "\n",
    "Training data is what we use to identify patterns and experimenting on the prediction. Testing data is what we use to test out our prediction and see if its accurate or not. "
   ]
  },
  {
   "cell_type": "code",
   "execution_count": 181,
   "metadata": {},
   "outputs": [],
   "source": [
    "#creating train and test datasets \n",
    "X_train, X_test, y_train, y_test = train_test_split(X, y , test_size=0.2)"
   ]
  },
  {
   "cell_type": "code",
   "execution_count": 252,
   "metadata": {},
   "outputs": [
    {
     "data": {
      "text/plain": [
       "array([[-0.89185333,  0.10369497],\n",
       "       [ 1.26758548,  0.1036952 ],\n",
       "       [ 0.18786607,  0.10369424],\n",
       "       [ 0.09189101,  0.10369505],\n",
       "       [ 0.45179748,  0.1036955 ],\n",
       "       [ 0.45179748,  0.10369528],\n",
       "       [-1.17977851,  0.10369482],\n",
       "       [ 0.90767901,  0.10369653],\n",
       "       [-0.48395934,  0.10369605],\n",
       "       [ 0.6437476 ,  0.10369214],\n",
       "       [ 0.13987854,  0.10369596],\n",
       "       [-0.29200922,  0.10369528],\n",
       "       [-0.72389698,  0.10369392],\n",
       "       [ 0.30783489,  0.10369625],\n",
       "       [ 0.09189101,  0.10369461],\n",
       "       [ 2.34730488,  0.10369633],\n",
       "       [ 1.00365407,  0.10369593],\n",
       "       [ 0.40380995,  0.1036936 ],\n",
       "       [ 1.60349818,  0.10369724]])"
      ]
     },
     "execution_count": 252,
     "metadata": {},
     "output_type": "execute_result"
    }
   ],
   "source": [
    "X_test"
   ]
  },
  {
   "cell_type": "code",
   "execution_count": 141,
   "metadata": {},
   "outputs": [
    {
     "data": {
      "text/plain": [
       "array([1268., 1280., 1291., 1276., 1286., 1284., 1291., 1295., 1306.,\n",
       "       1320., 1308., 1286., 1270., 1268., 1276., 1279., 1265., 1263.,\n",
       "       1257., 1281., 1308., 1323., 1306., 1271., 1281., 1319., 1338.,\n",
       "       1317., 1324., 1348., 1369., 1327., 1311., 1304., 1287., 1256.,\n",
       "       1218., 1223., 1207., 1206., 1190., 1212., 1256., 1309., 1352.,\n",
       "       1353., 1341., 1306., 1298., 1310., 1338., 1367., 1381., 1398.,\n",
       "       1404., 1406., 1391., 1366., 1334., 1313., 1292., 1293., 1298.,\n",
       "       1313., 1314., 1319., 1331., 1342., 1346., 1334., 1317., 1299.,\n",
       "       1281., 1266., 1255., 1251., 1255., 1263., 1272., 1278., 1286.,\n",
       "       1302., 1317., 1319., 1308., 1294., 1286., 1288., 1295., 1302.,\n",
       "       1305., 1304., 1306.])"
      ]
     },
     "execution_count": 141,
     "metadata": {},
     "output_type": "execute_result"
    }
   ],
   "source": [
    "y_test"
   ]
  },
  {
   "cell_type": "markdown",
   "metadata": {},
   "source": [
    "3.Linear Regression\n",
    "--\n",
    "\n"
   ]
  },
  {
   "cell_type": "markdown",
   "metadata": {},
   "source": [
    "Linear Rregession is one of the tools we can use to fine a pattern in our data. \n",
    "Let's start with an easier example.\n",
    "\n",
    "Before the test, if you study for 0 hour, you will get a 50. If you study for 1 hour, you are likely to get a 65... If you study for 10 hours, you get an 100. The x-axis, labled \"Study Time\", is an independent variable you can choose. The y-axis(\"Grades\"), however, only changes if the Study Time changes so it is a dependent variable. As you can see, there is a pattern between your Study Time and your Grades. Generally, if you study more, your grade is higher, \n",
    "and the opposite happens very rarely. This relation can be put into a formula.\n",
    "\n",
    "y = mx + b\n",
    "--\n",
    "\n",
    "**additional notes:**\n",
    "\n",
    "(estimate of y − average of y) / SD of y = r * (the given x − average of x) / SD of x\n",
    "\n",
    "m = r * (SD of y) / (SD of x)\n",
    "\n",
    "b = average of y − m ⋅ average of x\n",
    "\n",
    "\n",
    "Y is your grade, and X is the study time. m is the slope of the line, representing how much Y changes when X changes, and b is zero point of Y. \n",
    "\n"
   ]
  },
  {
   "cell_type": "code",
   "execution_count": 202,
   "metadata": {},
   "outputs": [
    {
     "data": {
      "text/plain": [
       "<seaborn.axisgrid.FacetGrid at 0x123e17898>"
      ]
     },
     "execution_count": 202,
     "metadata": {},
     "output_type": "execute_result"
    },
    {
     "data": {
      "image/png": "[encoded data removed]",
      "text/plain": [
       "<Figure size 360x360 with 1 Axes>"
      ]
     },
     "metadata": {
      "needs_background": "light"
     },
     "output_type": "display_data"
    }
   ],
   "source": [
    "study_grade = pd.DataFrame({ 'Study Time' : [0,1,2,3,4,5,6,7,10], 'Grades':[50,65,69,70,80,75,90,89,100]})\n",
    "sns.lmplot(x='Study Time',y='Grades',data=study_grade,fit_reg=True)"
   ]
  },
  {
   "cell_type": "markdown",
   "metadata": {},
   "source": [
    "In our prediction, this line is called Regression Line. All the dots are our data of \"Next month\", and the regression line is our best redictions of \"Next month\". The regression is the \"best-fitting line\" among these dots. This means that the total distances from the dots to the line is the smallest, and in the real world, the difference between the real data and our predictions are the smallest. Therefore, we can make predictions by simply plugging in X to get Y. "
   ]
  },
  {
   "cell_type": "code",
   "execution_count": 196,
   "metadata": {},
   "outputs": [
    {
     "data": {
      "text/plain": [
       "<seaborn.axisgrid.FacetGrid at 0x123b4c6d8>"
      ]
     },
     "execution_count": 196,
     "metadata": {},
     "output_type": "execute_result"
    },
    {
     "data": {
      "image/png": "[encoded data removed]",
      "text/plain": [
       "<Figure size 360x360 with 1 Axes>"
      ]
     },
     "metadata": {
      "needs_background": "light"
     },
     "output_type": "display_data"
    }
   ],
   "source": [
    "sns.lmplot(x='Value',y='Label',data=df,fit_reg=True)"
   ]
  },
  {
   "cell_type": "markdown",
   "metadata": {},
   "source": [
    "Remember our Testing Data?\n",
    "\n",
    "After we make our predictions, let's compare them to the real value of the tesing set to see the accuracy. \n",
    "\n",
    "It's pretty identical!"
   ]
  },
  {
   "cell_type": "code",
   "execution_count": 264,
   "metadata": {},
   "outputs": [
    {
     "data": {
      "image/png": "[encoded data removed]",
      "text/plain": [
       "<Figure size 432x288 with 1 Axes>"
      ]
     },
     "metadata": {
      "needs_background": "light"
     },
     "output_type": "display_data"
    }
   ],
   "source": [
    "c = LinearRegression(n_jobs = -1)\n",
    "c.fit (X_train, y_train)\n",
    "y_pred = c.predict(X_test)\n",
    "y_pred\n",
    "y_test\n",
    "comparison_df = pd.DataFrame({ 'Real Value' : y_test, 'Prediction':y_pred})\n",
    "ax = comparison_df.plot.line()"
   ]
  },
  {
   "cell_type": "markdown",
   "metadata": {},
   "source": [
    "Our prediction for the next month of 9/29/2018."
   ]
  },
  {
   "cell_type": "code",
   "execution_count": 263,
   "metadata": {},
   "outputs": [
    {
     "data": {
      "text/plain": [
       "1324.5134697928788"
      ]
     },
     "execution_count": 263,
     "metadata": {},
     "output_type": "execute_result"
    }
   ],
   "source": [
    "Next_month = c.predict(X_test)\n",
    "Next_month[Next_month.size-1]"
   ]
  },
  {
   "cell_type": "markdown",
   "metadata": {},
   "source": [
    "We can then repeat the test for thosands of times(computer can do it for us!). The score represents the accuracy percentage of our prediction. "
   ]
  },
  {
   "cell_type": "code",
   "execution_count": 166,
   "metadata": {},
   "outputs": [
    {
     "data": {
      "text/plain": [
       "0.9205386091054993"
      ]
     },
     "execution_count": 166,
     "metadata": {},
     "output_type": "execute_result"
    }
   ],
   "source": [
    "#find the classifier\n",
    "confidence = c.score(X_test, y_test)\n",
    "confidence\n"
   ]
  },
  {
   "cell_type": "markdown",
   "metadata": {},
   "source": [
    "We can also try other algorithms easily, such as polynomials, even though the result is not as good as the linear regression."
   ]
  },
  {
   "cell_type": "code",
   "execution_count": 209,
   "metadata": {},
   "outputs": [
    {
     "name": "stderr",
     "output_type": "stream",
     "text": [
      "/Library/Frameworks/Python.framework/Versions/3.7/lib/python3.7/site-packages/sklearn/svm/base.py:196: FutureWarning: The default value of gamma will change from 'auto' to 'scale' in version 0.22 to account better for unscaled features. Set gamma explicitly to 'auto' or 'scale' to avoid this warning.\n",
      "  \"avoid this warning.\", FutureWarning)\n"
     ]
    },
    {
     "data": {
      "text/plain": [
       "0.5117449221167326"
      ]
     },
     "execution_count": 209,
     "metadata": {},
     "output_type": "execute_result"
    }
   ],
   "source": [
    "#try different algotithm polynomial, which is VERY bad \n",
    "c = svm.SVR(kernel = 'poly')\n",
    "c.fit (X_train, y_train)\n",
    "confidence = c.score(X_test, y_test)\n",
    "confidence"
   ]
  },
  {
   "cell_type": "markdown",
   "metadata": {},
   "source": [
    "4.Other Machine Learning Tools \n",
    "--\n",
    "Except for Linear Regression, there are many more fields of Machine Learning that is worth exploring. For example,\n",
    "\n",
    "1.Classification with K nearest neighbor\n",
    "\n",
    "2.Optimization with Support Vector Machine (SVM)\n",
    "\n",
    "3.Clustering\n",
    "\n",
    "4.Deep Learning with Neural Network and TensorFlow\n",
    "\n",
    "...\n",
    "\n",
    "If you are interested in learning more, come join us in HasBrain's community and become a future data scientist yourself!\n",
    "\n",
    "http://www.hasbrain.com/"
   ]
  },
  {
   "cell_type": "code",
   "execution_count": null,
   "metadata": {},
   "outputs": [],
   "source": []
  }
 ],
 "metadata": {
  "kernelspec": {
   "display_name": "Python 3",
   "language": "python",
   "name": "python3"
  },
  "language_info": {
   "codemirror_mode": {
    "name": "ipython",
    "version": 3
   },
   "file_extension": ".py",
   "mimetype": "text/x-python",
   "name": "python",
   "nbconvert_exporter": "python",
   "pygments_lexer": "ipython3",
   "version": "3.7.0"
  }
 },
 "nbformat": 4,
 "nbformat_minor": 2
}
